version https://git-lfs.github.com/spec/v1
oid sha256:02673a947bddd85b432dd9ee234bd63b3e10a2bcca4d62f0a0dacbcd50868609
size 587319
